{
 "cells": [
  {
   "cell_type": "markdown",
   "metadata": {},
   "source": [
    "Começo do Código"
   ]
  },
  {
   "cell_type": "code",
   "execution_count": 10,
   "metadata": {},
   "outputs": [],
   "source": [
    "# Data manipulation\n",
    "import pandas as pd\n",
    "import numpy as np\n",
    "\n",
    "# Data visualization\n",
    "import seaborn as sns"
   ]
  },
  {
   "attachments": {},
   "cell_type": "markdown",
   "metadata": {},
   "source": [
    "Carregar o Dataset"
   ]
  },
  {
   "cell_type": "code",
   "execution_count": 11,
   "metadata": {},
   "outputs": [],
   "source": [
    "db = pd.read_csv('data/Dados_2022.csv', encoding='latin-1')"
   ]
  },
  {
   "cell_type": "code",
   "execution_count": 12,
   "metadata": {},
   "outputs": [
    {
     "name": "stdout",
     "output_type": "stream",
     "text": [
      "<class 'pandas.core.frame.DataFrame'>\n",
      "RangeIndex: 4 entries, 0 to 3\n",
      "Data columns (total 8 columns):\n",
      " #   Column   Non-Null Count  Dtype  \n",
      "---  ------   --------------  -----  \n",
      " 0   mês      4 non-null      object \n",
      " 1   segunda  4 non-null      float64\n",
      " 2   terca    4 non-null      float64\n",
      " 3   quarta   4 non-null      float64\n",
      " 4   quinta   4 non-null      float64\n",
      " 5   sexta    4 non-null      float64\n",
      " 6   sabado   4 non-null      float64\n",
      " 7   domingo  4 non-null      float64\n",
      "dtypes: float64(7), object(1)\n",
      "memory usage: 384.0+ bytes\n"
     ]
    }
   ],
   "source": [
    "db.info()"
   ]
  },
  {
   "cell_type": "code",
   "execution_count": 13,
   "metadata": {},
   "outputs": [
    {
     "data": {
      "text/html": [
       "<div>\n",
       "<style scoped>\n",
       "    .dataframe tbody tr th:only-of-type {\n",
       "        vertical-align: middle;\n",
       "    }\n",
       "\n",
       "    .dataframe tbody tr th {\n",
       "        vertical-align: top;\n",
       "    }\n",
       "\n",
       "    .dataframe thead th {\n",
       "        text-align: right;\n",
       "    }\n",
       "</style>\n",
       "<table border=\"1\" class=\"dataframe\">\n",
       "  <thead>\n",
       "    <tr style=\"text-align: right;\">\n",
       "      <th></th>\n",
       "      <th>mês</th>\n",
       "      <th>segunda</th>\n",
       "      <th>terca</th>\n",
       "      <th>quarta</th>\n",
       "      <th>quinta</th>\n",
       "      <th>sexta</th>\n",
       "      <th>sabado</th>\n",
       "      <th>domingo</th>\n",
       "    </tr>\n",
       "  </thead>\n",
       "  <tbody>\n",
       "    <tr>\n",
       "      <th>0</th>\n",
       "      <td>Setembro</td>\n",
       "      <td>4238.50</td>\n",
       "      <td>4029.50</td>\n",
       "      <td>3949.50</td>\n",
       "      <td>3987.40</td>\n",
       "      <td>4136.20</td>\n",
       "      <td>4051.25</td>\n",
       "      <td>3968.50</td>\n",
       "    </tr>\n",
       "    <tr>\n",
       "      <th>1</th>\n",
       "      <td>Outubro</td>\n",
       "      <td>4355.20</td>\n",
       "      <td>4113.75</td>\n",
       "      <td>4017.25</td>\n",
       "      <td>4226.00</td>\n",
       "      <td>4227.75</td>\n",
       "      <td>3955.80</td>\n",
       "      <td>3849.60</td>\n",
       "    </tr>\n",
       "    <tr>\n",
       "      <th>2</th>\n",
       "      <td>Novembro</td>\n",
       "      <td>4416.75</td>\n",
       "      <td>4034.60</td>\n",
       "      <td>4142.20</td>\n",
       "      <td>4227.75</td>\n",
       "      <td>4187.75</td>\n",
       "      <td>4112.75</td>\n",
       "      <td>3986.25</td>\n",
       "    </tr>\n",
       "    <tr>\n",
       "      <th>3</th>\n",
       "      <td>Dezembro</td>\n",
       "      <td>4375.00</td>\n",
       "      <td>4234.25</td>\n",
       "      <td>4253.50</td>\n",
       "      <td>4079.00</td>\n",
       "      <td>4232.60</td>\n",
       "      <td>4045.00</td>\n",
       "      <td>4024.75</td>\n",
       "    </tr>\n",
       "  </tbody>\n",
       "</table>\n",
       "</div>"
      ],
      "text/plain": [
       "        mês  segunda    terca   quarta   quinta    sexta   sabado  domingo\n",
       "0  Setembro  4238.50  4029.50  3949.50  3987.40  4136.20  4051.25  3968.50\n",
       "1   Outubro  4355.20  4113.75  4017.25  4226.00  4227.75  3955.80  3849.60\n",
       "2  Novembro  4416.75  4034.60  4142.20  4227.75  4187.75  4112.75  3986.25\n",
       "3  Dezembro  4375.00  4234.25  4253.50  4079.00  4232.60  4045.00  4024.75"
      ]
     },
     "execution_count": 13,
     "metadata": {},
     "output_type": "execute_result"
    }
   ],
   "source": [
    "db.head()"
   ]
  }
 ],
 "metadata": {
  "kernelspec": {
   "display_name": "base",
   "language": "python",
   "name": "python3"
  },
  "language_info": {
   "codemirror_mode": {
    "name": "ipython",
    "version": 3
   },
   "file_extension": ".py",
   "mimetype": "text/x-python",
   "name": "python",
   "nbconvert_exporter": "python",
   "pygments_lexer": "ipython3",
   "version": "3.9.13"
  },
  "orig_nbformat": 4,
  "vscode": {
   "interpreter": {
    "hash": "740998dd0a74d04475412167e863528114950e789c69ed18de65643f6824a68c"
   }
  }
 },
 "nbformat": 4,
 "nbformat_minor": 2
}
